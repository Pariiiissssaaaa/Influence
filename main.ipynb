{
 "cells": [
  {
   "cell_type": "code",
   "execution_count": 12,
   "metadata": {},
   "outputs": [],
   "source": [
    "import networkx as nx\n",
    "import pandas as pd\n",
    "from tqdm import tqdm\n",
    "import time\n",
    "import numpy as np\n",
    "#from IC import IC\n",
    "#from greedy import greedy\n",
    "#from CELF import celf\n",
    "#from degreeDiscount import degreeDiscount\n"
   ]
  },
  {
   "cell_type": "code",
   "execution_count": 2,
   "metadata": {},
   "outputs": [],
   "source": [
    "# Reade re-tweet graph \n",
    "data=pd.read_csv('/home/parisa/retweet_subgraph.csv', header=None)"
   ]
  },
  {
   "cell_type": "code",
   "execution_count": 3,
   "metadata": {},
   "outputs": [
    {
     "name": "stderr",
     "output_type": "stream",
     "text": [
      "100%|██████████| 17921706/17921706 [29:08<00:00, 10251.86it/s] \n"
     ]
    }
   ],
   "source": [
    "G=nx.DiGraph()\n",
    "    \n",
    "vertics=set(data[0]).union(set(data[1]))\n",
    "\n",
    "l=len(data)\n",
    "for i in tqdm(range(l)):\n",
    "    G.add_edge(data[1][i], data[0][i], weight=int(data[2][i]))"
   ]
  },
  {
   "cell_type": "code",
   "execution_count": 4,
   "metadata": {},
   "outputs": [
    {
     "name": "stderr",
     "output_type": "stream",
     "text": [
      "100%|██████████| 23887/23887 [00:00<00:00, 1507717.56it/s]\n"
     ]
    }
   ],
   "source": [
    "#read isis-users \n",
    "\n",
    "isis_user_set=set()\n",
    "f=open('/home/parisa/isis_seed.csv')\n",
    "for line in f:\n",
    "    isis_user_set.add(int(line.strip()))\n",
    "f.close()\n",
    "        \n",
    "isis_user_active=set()\n",
    "for user in tqdm(isis_user_set):\n",
    "    if user in vertics:\n",
    "        isis_user_active.add(user)"
   ]
  },
  {
   "cell_type": "code",
   "execution_count": 5,
   "metadata": {},
   "outputs": [],
   "source": [
    "#call seed-selection algorithms"
   ]
  },
  {
   "cell_type": "code",
   "execution_count": 6,
   "metadata": {},
   "outputs": [],
   "source": [
    "def IC(g,S,p=0.5,mc=10, steps=3):\n",
    "    \"\"\"\n",
    "    Input:  graph object, set of seed nodes, propagation probability\n",
    "            and the number of Monte-Carlo simulations\n",
    "    Output: average number of nodes influenced by the seed nodes\n",
    "    \"\"\"\n",
    "    \n",
    "    # Loop over the Monte-Carlo Simulations\n",
    "    spread = []\n",
    "    for i in (range(mc)):\n",
    "        \n",
    "        # Simulate propagation process      \n",
    "        new_active, A = S[:], S[:]\n",
    "        #while new_active:\n",
    "        for step in range(steps):\n",
    "            \n",
    "\n",
    "            # For each newly active node, find its neighbors that become activated\n",
    "            new_ones = []\n",
    "            for node in (new_active):\n",
    "                \n",
    "                # Determine neighbors that become infected\n",
    "                np.random.seed(i)\n",
    "                success = np.random.uniform(0,1,len(g[node])) > p\n",
    "                \n",
    "                if len(g[node]) > 1:\n",
    "                    new_ones += list(np.extract(success, g[node]))\n",
    "                \n",
    "\n",
    "            new_active = list(set(new_ones) - set(A))\n",
    "            \n",
    "            # Add newly activated nodes to the set of activated nodes\n",
    "            A += new_active\n",
    "            \n",
    "        spread.append(len(A))\n",
    "        \n",
    "    return(np.mean(spread))\n"
   ]
  },
  {
   "cell_type": "code",
   "execution_count": 7,
   "metadata": {},
   "outputs": [],
   "source": [
    "def celf(g,k, crowd_sourced, p=0.1,mc=1000, steps=3):  \n",
    "    \"\"\"\n",
    "    Input:  graph object, number of seed nodes\n",
    "    Output: optimal seed set, resulting spread, time for each iteration\n",
    "    \"\"\"\n",
    "      \n",
    "    # --------------------\n",
    "    # Find the first node with greedy algorithm\n",
    "    # --------------------\n",
    "    \n",
    "    # Calculate the first iteration sorted list\n",
    "    start_time = time.time() \n",
    "    #marg_gain = [IC(g,[node],p,mc) for node in range(g.vcount())]\n",
    "    marg_gain = [IC(g,[node],p,mc) for node in crowd_sourced]\n",
    "    \n",
    "\n",
    "    # Create the sorted list of nodes and their marginal gain \n",
    "    Q = sorted(zip(crowd_sourced, marg_gain), key=lambda x: x[1],reverse=True)\n",
    "\n",
    "    # Select the first node and remove from candidate list\n",
    "    S, spread, SPREAD = [Q[0][0]], Q[0][1], [Q[0][1]]\n",
    "    #Q, LOOKUPS, timelapse = Q[1:], [g.vcount()], [time.time()-start_time]\n",
    "    Q, timelapse = Q[1:], [time.time()-start_time]\n",
    "    \n",
    "    # --------------------\n",
    "    # Find the next k-1 nodes using the list-sorting procedure\n",
    "    # --------------------\n",
    "    \n",
    "    for _ in tqdm(range(k-1)):    \n",
    "\n",
    "        check, node_lookup = False, 0\n",
    "        \n",
    "        while not check:\n",
    "            \n",
    "            # Count the number of times the spread is computed\n",
    "            node_lookup += 1\n",
    "            \n",
    "            # Recalculate spread of top node\n",
    "            current = Q[0][0]\n",
    "            \n",
    "            # Evaluate the spread function and store the marginal gain in the list\n",
    "            Q[0] = (current,IC(g,S+[current],p,mc) - spread)\n",
    "\n",
    "            # Re-sort the list\n",
    "            Q = sorted(Q, key = lambda x: x[1], reverse = True)\n",
    "\n",
    "            # Check if previous top node stayed on top after the sort\n",
    "            check = (Q[0][0] == current)\n",
    "\n",
    "        # Select the next node\n",
    "        spread += Q[0][1]\n",
    "        S.append(Q[0][0])\n",
    "        SPREAD.append(spread)\n",
    "        #LOOKUPS.append(node_lookup)\n",
    "        timelapse.append(time.time() - start_time)\n",
    "\n",
    "        # Remove the selected node from the list\n",
    "        Q = Q[1:]\n",
    "\n",
    "    #return(S,SPREAD,timelapse,LOOKUPS)\n",
    "    return(S,SPREAD,timelapse)"
   ]
  },
  {
   "cell_type": "code",
   "execution_count": 8,
   "metadata": {},
   "outputs": [],
   "source": [
    "def greedy(g,k, crowd_sourced, p=0.1,mc=1000, steps=3):\n",
    "    \"\"\"\n",
    "    Input:  graph object, number of seed nodes\n",
    "    Output: optimal seed set, resulting spread, time for each iteration\n",
    "    \"\"\"\n",
    "\n",
    "    S, spread, timelapse, start_time = [], [], [], time.time()\n",
    "    \n",
    "    # Find k nodes with largest marginal gain\n",
    "    for _ in tqdm(range(k)):\n",
    "\n",
    "        # Loop over nodes that are not yet in seed set to find biggest marginal gain\n",
    "        best_spread = 0\n",
    "        #for j in set(range(g.vcount()))-set(S):\n",
    "        for j in set(crowd_sourced)-set(S):\n",
    "\n",
    "            # Get the spread\n",
    "            s = IC(g,S + [j],p,mc, steps)\n",
    "\n",
    "            # Update the winning node and spread so far\n",
    "            if s > best_spread:\n",
    "                best_spread, node = s, j\n",
    "\n",
    "        # Add the selected node to the seed set\n",
    "        S.append(node)\n",
    "        \n",
    "        # Add estimated spread and elapsed time\n",
    "        spread.append(best_spread)\n",
    "        timelapse.append(time.time() - start_time)\n",
    "\n",
    "    return(S,spread,timelapse)"
   ]
  },
  {
   "cell_type": "code",
   "execution_count": 9,
   "metadata": {},
   "outputs": [],
   "source": [
    "''' Implementation of degree discount heuristic [1] for Independent Cascade model\n",
    "of influence propagation in graph G\n",
    "\n",
    "[1] -- Wei Chen et al. Efficient influence maximization in Social Networks (algorithm 4)\n",
    "'''\n",
    "__author__ = 'ivanovsergey'\n",
    "from priorityQueue import PriorityQueue as PQ # priority queue\n",
    "\n",
    "def degreeDiscount(G, k, crowd_sourced, p=.01):\n",
    "    ''' Finds initial set of nodes to propagate in Independent Cascade model (with priority queue)\n",
    "    Input: G -- networkx graph object\n",
    "    k -- number of nodes needed\n",
    "    p -- propagation probability\n",
    "    Output:\n",
    "    S -- chosen k nodes\n",
    "    '''\n",
    "    S = []\n",
    "    dd = PQ() # degree discount\n",
    "    t = dict() # number of adjacent vertices that are in S\n",
    "    d = dict() # degree of each vertex\n",
    "\n",
    "    # initialize degree discount\n",
    "    for u in G.nodes():\n",
    "        d[u] = sum([G[u][v]['weight'] for v in G[u]]) # each edge adds degree 1\n",
    "        # d[u] = len(G[u]) # each neighbor adds degree 1\n",
    "        dd.add_task(u, -d[u]) # add degree of each node\n",
    "        t[u] = 0\n",
    "\n",
    "    # add vertices to S greedily\n",
    "    #for i in tqdm(range(k)):\n",
    "    while (len(S)<k):\n",
    "        u, priority = dd.pop_item() # extract node with maximal degree discount\n",
    "        if u in crowd_sourced:\n",
    "            S.append(u)\n",
    "\n",
    "            for v in G[u]:\n",
    "\n",
    "                if v not in S:\n",
    "\n",
    "                    t[v] += G[u][v]['weight'] # increase number of selected neighbors\n",
    "\n",
    "                    priority = d[v] - 2*t[v] - (d[v] - t[v])*t[v]*p # discount of degree\n",
    "                    dd.add_task(v, -priority)\n",
    "    return S"
   ]
  },
  {
   "cell_type": "code",
   "execution_count": 16,
   "metadata": {},
   "outputs": [],
   "source": [
    "#S_celf,spread,timelapse=celf(G,50, isis_user_active, p=0.1,mc=1, steps=3)\n",
    "#S_greedy,spread,timelapse=greedy(G,50, isis_user_active, p=0.1,mc=1, steps=3)\n",
    "#S_degreeDiscount=degreeDiscount(G, 50, isis_user_active, p=.01)"
   ]
  },
  {
   "cell_type": "code",
   "execution_count": 21,
   "metadata": {},
   "outputs": [
    {
     "name": "stdout",
     "output_type": "stream",
     "text": [
      "influence by all isis-users\n",
      "132103.99\n",
      "influence by top 50 nodes obtained from CELF algorithm:\n",
      "131305.04\n",
      "influence by top 50 nodes obtained from degreeDiscount algorithm:\n",
      "125618.91\n",
      "influence by all isis-users but top 50 nodes\n",
      "28655.8\n",
      "influence by top 10 nodes obtained from degreeDiscount algorithm:\n",
      "99822.4\n",
      "influence by all isis-users but top 10 nodes\n",
      "77759.75\n",
      "influence by top 20 nodes obtained from degreeDiscount algorithm:\n",
      "114907.32\n",
      "influence by all isis-users but top 20 nodes\n",
      "48069.88\n",
      "influence by top 30 nodes obtained from degreeDiscount algorithm:\n",
      "121001.22\n",
      "influence by all isis-users but top 30 nodes\n",
      "36897.66\n",
      "influence by top 40 nodes obtained from degreeDiscount algorithm:\n",
      "125422.16\n",
      "influence by all isis-users but top 40 nodes\n",
      "29402.7\n"
     ]
    }
   ],
   "source": [
    "SEED=list(isis_user_active)\n",
    "n=IC(G, SEED, mc=100, steps=3)\n",
    "print (\"influence by all isis-users\")\n",
    "print (n)\n",
    "\n",
    "\n",
    "# SEED=S_greedy\n",
    "# n=IC(G, SEED, mc=10, steps=3)\n",
    "# print (\"influence by top 50 nodes obtained from greedy algorithm:\")\n",
    "# print (n)\n",
    "\n",
    "\n",
    "SEED=S_celf\n",
    "n=IC(G, SEED, mc=100, steps=3)\n",
    "print (\"influence by top 50 nodes obtained from CELF algorithm:\")\n",
    "print (n)\n",
    "\n",
    "\n",
    "SEED=S_degreeDiscount\n",
    "n=IC(G, SEED, mc=100, steps=3)\n",
    "print (\"influence by top 50 nodes obtained from degreeDiscount algorithm:\")\n",
    "print (n)\n",
    "\n",
    "\n",
    "SEED=list(isis_user_active-set(S_degreeDiscount))\n",
    "n=IC(G, SEED, mc=100, steps=3)\n",
    "print (\"influence by all isis-users but top 50 nodes\")\n",
    "print (n)\n",
    "\n",
    "#influence by top 10, 20, 30, 40\n",
    "top_nodes=[10,20,30,40]\n",
    "for num in top_nodes:\n",
    "        \n",
    "    SEED=S_degreeDiscount[:num]\n",
    "    n=IC(G, SEED, mc=100, steps=3)\n",
    "    print (\"influence by top \"+ str(num) + \" nodes obtained from degreeDiscount algorithm:\")\n",
    "    print (n)\n",
    "\n",
    "    SEED=list(isis_user_active-set(S_degreeDiscount[:num]))\n",
    "    n=IC(G, SEED, mc=100, steps=3)\n",
    "    print (\"influence by all isis-users but top \"+ str(num) +\" nodes\")\n",
    "    print (n)"
   ]
  },
  {
   "cell_type": "code",
   "execution_count": null,
   "metadata": {},
   "outputs": [],
   "source": [
    "influential_nodes #CELF\n",
    "\n",
    "n=121774.0 (3-step away)\n",
    "\n",
    "n=  15888.8 (2-step away)"
   ]
  },
  {
   "cell_type": "markdown",
   "metadata": {},
   "source": [
    "influential_nodes #greedy\n",
    "\n",
    "n=121551.0 (3-step away)\n",
    "\n",
    "n= 15817.1 (2-step away)"
   ]
  },
  {
   "cell_type": "markdown",
   "metadata": {},
   "source": [
    "influential_nodes #discountDegree\n",
    "\n",
    "n=125664.9 (3-step away)\n",
    "\n",
    "n= 16358.6 (2-step away)"
   ]
  },
  {
   "cell_type": "markdown",
   "metadata": {},
   "source": [
    "all isis users\n",
    "\n",
    "n= 131017.2 (3-step away)\n",
    "\n",
    "n=18534.3 (2-step away)\n"
   ]
  },
  {
   "cell_type": "code",
   "execution_count": 18,
   "metadata": {},
   "outputs": [
    {
     "data": {
      "text/plain": [
       "[2715034728,\n",
       " 2358249146,\n",
       " 149303000,\n",
       " 2752581300,\n",
       " 707052698,\n",
       " 2806269150,\n",
       " 2208420021,\n",
       " 56778338,\n",
       " 521126912,\n",
       " 168396811,\n",
       " 3171495321,\n",
       " 297047301,\n",
       " 3161789036,\n",
       " 287717125,\n",
       " 3149670900,\n",
       " 2756162702,\n",
       " 540538386,\n",
       " 1408393478,\n",
       " 2875596778,\n",
       " 86698935,\n",
       " 3134949498,\n",
       " 2535660986,\n",
       " 1096909404,\n",
       " 14427603,\n",
       " 874231856,\n",
       " 1359535694,\n",
       " 3224652159,\n",
       " 3060213776,\n",
       " 30678041,\n",
       " 3162425990,\n",
       " 3170321728,\n",
       " 3048792813,\n",
       " 3008434819,\n",
       " 3252760174,\n",
       " 3064166751,\n",
       " 3008169904,\n",
       " 2939340325,\n",
       " 2804257159,\n",
       " 1704409008,\n",
       " 2676071599,\n",
       " 806514546,\n",
       " 1026385117,\n",
       " 2347474967,\n",
       " 3248569119,\n",
       " 3012232659,\n",
       " 3066001547,\n",
       " 3179642533,\n",
       " 3225937634,\n",
       " 2828711654,\n",
       " 400307083]"
      ]
     },
     "execution_count": 18,
     "metadata": {},
     "output_type": "execute_result"
    }
   ],
   "source": [
    "S_celf"
   ]
  },
  {
   "cell_type": "code",
   "execution_count": 19,
   "metadata": {},
   "outputs": [
    {
     "data": {
      "text/plain": [
       "[2358249146,\n",
       " 2715034728,\n",
       " 3161789036,\n",
       " 707052698,\n",
       " 3134949498,\n",
       " 2676071599,\n",
       " 2875596778,\n",
       " 3008434819,\n",
       " 2208420021,\n",
       " 2756162702,\n",
       " 540538386,\n",
       " 2804257159,\n",
       " 149303000,\n",
       " 1096909404,\n",
       " 1359535694,\n",
       " 56778338,\n",
       " 874231856,\n",
       " 287717125,\n",
       " 3083907459,\n",
       " 168396811,\n",
       " 3048792813,\n",
       " 3080296754,\n",
       " 3012232659,\n",
       " 3248569119,\n",
       " 3133500934,\n",
       " 1528114782,\n",
       " 2752581300,\n",
       " 2535660986,\n",
       " 3179642533,\n",
       " 3066001547,\n",
       " 935695748,\n",
       " 1059061597,\n",
       " 14427603,\n",
       " 3064166751,\n",
       " 297047301,\n",
       " 2806269150,\n",
       " 2939824000,\n",
       " 876641178,\n",
       " 998468834,\n",
       " 2471237688,\n",
       " 3050112031,\n",
       " 3070572718,\n",
       " 3060213776,\n",
       " 3044060610,\n",
       " 806514546,\n",
       " 3259934878,\n",
       " 3157912606,\n",
       " 2703563244,\n",
       " 2220035933,\n",
       " 3252760174]"
      ]
     },
     "execution_count": 19,
     "metadata": {},
     "output_type": "execute_result"
    }
   ],
   "source": [
    "S_degreeDiscount"
   ]
  },
  {
   "cell_type": "code",
   "execution_count": 20,
   "metadata": {},
   "outputs": [
    {
     "data": {
      "text/plain": [
       "33"
      ]
     },
     "execution_count": 20,
     "metadata": {},
     "output_type": "execute_result"
    }
   ],
   "source": [
    "len(set(S_celf).intersection(set(S_degreeDiscount)))"
   ]
  },
  {
   "cell_type": "code",
   "execution_count": null,
   "metadata": {},
   "outputs": [],
   "source": []
  }
 ],
 "metadata": {
  "kernelspec": {
   "display_name": "Python 2",
   "language": "python",
   "name": "python2"
  },
  "language_info": {
   "codemirror_mode": {
    "name": "ipython",
    "version": 2
   },
   "file_extension": ".py",
   "mimetype": "text/x-python",
   "name": "python",
   "nbconvert_exporter": "python",
   "pygments_lexer": "ipython2",
   "version": "2.7.17"
  }
 },
 "nbformat": 4,
 "nbformat_minor": 2
}
